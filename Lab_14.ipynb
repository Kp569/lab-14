{
  "nbformat": 4,
  "nbformat_minor": 0,
  "metadata": {
    "colab": {
      "provenance": []
    },
    "kernelspec": {
      "name": "python3",
      "display_name": "Python 3"
    },
    "language_info": {
      "name": "python"
    }
  },
  "cells": [
    {
      "cell_type": "markdown",
      "source": [
        "#Lab 14\n",
        "Respiratory Physiology"
      ],
      "metadata": {
        "id": "uWF5tJ2zLE0Q"
      }
    },
    {
      "cell_type": "markdown",
      "source": [
        "#purpose:\n",
        "Understand Tidal Volume, Expiratory reserve volume, Expirtory capacity, Inspiratory reserve volume, Inspiratory capacity, and Vital capacity using a spirometer.\n",
        ""
      ],
      "metadata": {
        "id": "D6C5ex0ULUBF"
      }
    },
    {
      "cell_type": "markdown",
      "source": [
        "#Procedure:\n",
        "In this laboratory, the lung capacities of tidal volume, vital capacity, inspiratory\n",
        "capacity, inspiratory\n",
        "reserve volume, expiratory capacity and expiratory reserve volume\n",
        "will be recorded for student volunteers. The timed vital capacity (TVC) or forced\n",
        "expiratory volume (FEV\n",
        "T\n",
        ") will also be calculated for these students. The students will be\n",
        "introduced to t\n",
        "he use and theory behind incentive inspiratory devices and a portable\n",
        "spirometer. Impedance pneumography, the measurement of ventilation rates by recording\n",
        "the changing impedance of an expanding and contracting thorax, may be demonstrated."
      ],
      "metadata": {
        "id": "wKpNC0HaL-A8"
      }
    },
    {
      "cell_type": "markdown",
      "source": [
        "#Results:"
      ],
      "metadata": {
        "id": "IjTLm7erMMsZ"
      }
    },
    {
      "cell_type": "code",
      "source": [
        "# import packages\n",
        "import statistics\n",
        "import pandas as pd\n",
        "import scipy.stats as stats\n",
        "from scipy.stats import sem\n",
        "from statistics import mean, stdev\n",
        "import matplotlib.pyplot as plt\n",
        "import numpy as np\n",
        "#include if using a jupyter notebook, remove if using a .py file\n",
        "%matplotlib inline"
      ],
      "metadata": {
        "id": "i1_mxQwnB8UF"
      },
      "execution_count": 28,
      "outputs": []
    },
    {
      "cell_type": "code",
      "execution_count": 29,
      "metadata": {
        "id": "c4nudmAnAoNb"
      },
      "outputs": [],
      "source": [
        "#data\n",
        "male_vc = [3.3, 4.5, 3.7,5.3]\n",
        "female_vc = [2.7, 3.7, 3.2, 3.45, 3.2, 3.1]\n",
        "malefev1 = [3.3, 4.88, 3.7, 4.81]\n",
        "femalefev1 = [2.37, 3.37, 2.6, 2.69, 3.13, 2.44]"
      ]
    },
    {
      "cell_type": "code",
      "source": [
        "# find the mean using the mean() function from the statistics library\n",
        "malevc_mean = mean(male_vc)\n",
        "femalevc_mean = mean(female_vc)\n",
        "malefev1_mean = mean(male_fev1)\n",
        "femalefev1_mean = mean(female_fev1)"
      ],
      "metadata": {
        "id": "5FumOT_qDkaA"
      },
      "execution_count": 30,
      "outputs": []
    },
    {
      "cell_type": "code",
      "source": [
        "malevc_sem = sem(male_vc)\n",
        "femalevc_sem = sem(female_vc)\n",
        "malefev1_sem = sem(male_fev1)\n",
        "femalefev1_sem = sem(female_fev1)"
      ],
      "metadata": {
        "id": "b4up4mdpFCrv"
      },
      "execution_count": 31,
      "outputs": []
    },
    {
      "cell_type": "code",
      "source": [
        "# build a bar plot\n",
        "plt.bar(['Male VC', 'Female VC', 'Male FEV1', 'Female FEV1'],[malevc_mean, femalevc_mean, male_fev1_mean, female_fev1_mean],yerr = [malevc_sem, femalevc_sem, malefev1_sem, femalefev1_sem], capsize = 10)\n",
        "plt.xlabel('Biological Sex')\n",
        "plt.ylabel('Volume(liters)')\n",
        "plt.title('Male vs Female VC and FEV')\n",
        "plt.show()\n"
      ],
      "metadata": {
        "colab": {
          "base_uri": "https://localhost:8080/",
          "height": 472
        },
        "id": "drnDjxNSDX8R",
        "outputId": "86917e17-cb77-4c71-bce3-ee9e83ffb164"
      },
      "execution_count": 36,
      "outputs": [
        {
          "output_type": "display_data",
          "data": {
            "text/plain": [
              "<Figure size 640x480 with 1 Axes>"
            ],
            "image/png": "[encoded data removed]"
          },
          "metadata": {}
        }
      ]
    },
    {
      "cell_type": "markdown",
      "source": [
        "#Discussion:\n",
        "The levels of capacity for femal and male differ in that the males in both vital capacity (VC) and forced expiratory volume (FEV) are higher in males than in females."
      ],
      "metadata": {
        "id": "gTGMvI-nLDLX"
      }
    },
    {
      "cell_type": "markdown",
      "source": [
        "#Conclusion:\n",
        "Being able to obtain thewe types of reading are benficial in detecting things such as asthma, chronic bronchitis,or emphysema.\n"
      ],
      "metadata": {
        "id": "C3b4nEJZM_Mc"
      }
    }
  ]
}